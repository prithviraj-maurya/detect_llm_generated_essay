{
 "cells": [
  {
   "cell_type": "code",
   "execution_count": 1,
   "id": "0deed4cf",
   "metadata": {
    "_cell_guid": "b1076dfc-b9ad-4769-8c92-a6c4dae69d19",
    "_uuid": "8f2839f25d086af736a60e9eeb907d3b93b6e0e5",
    "execution": {
     "iopub.execute_input": "2023-11-18T03:47:47.125429Z",
     "iopub.status.busy": "2023-11-18T03:47:47.125059Z",
     "iopub.status.idle": "2023-11-18T03:48:01.417377Z",
     "shell.execute_reply": "2023-11-18T03:48:01.416560Z"
    },
    "papermill": {
     "duration": 14.300247,
     "end_time": "2023-11-18T03:48:01.419643",
     "exception": false,
     "start_time": "2023-11-18T03:47:47.119396",
     "status": "completed"
    },
    "tags": []
   },
   "outputs": [
    {
     "name": "stderr",
     "output_type": "stream",
     "text": [
      "/opt/conda/lib/python3.10/site-packages/scipy/__init__.py:146: UserWarning: A NumPy version >=1.16.5 and <1.23.0 is required for this version of SciPy (detected version 1.24.3\n",
      "  warnings.warn(f\"A NumPy version >={np_minversion} and <{np_maxversion}\"\n"
     ]
    }
   ],
   "source": [
    "## Imports\n",
    "import numpy as np\n",
    "import pandas as pd\n",
    "import matplotlib.pyplot as plt\n",
    "from sklearn.model_selection import train_test_split\n",
    "import tensorflow_datasets as tfds\n",
    "import tensorflow as tf\n",
    "from tensorflow.keras import utils\n",
    "import tensorflow_text as tf_text"
   ]
  },
  {
   "cell_type": "code",
   "execution_count": 2,
   "id": "1bc5e45c",
   "metadata": {
    "execution": {
     "iopub.execute_input": "2023-11-18T03:48:01.429183Z",
     "iopub.status.busy": "2023-11-18T03:48:01.428614Z",
     "iopub.status.idle": "2023-11-18T03:48:01.433729Z",
     "shell.execute_reply": "2023-11-18T03:48:01.433007Z"
    },
    "papermill": {
     "duration": 0.011645,
     "end_time": "2023-11-18T03:48:01.435627",
     "exception": false,
     "start_time": "2023-11-18T03:48:01.423982",
     "status": "completed"
    },
    "tags": []
   },
   "outputs": [],
   "source": [
    "## Utility functions\n",
    "def plot_graphs(history, metric):\n",
    "    plt.plot(history.history[metric])\n",
    "    plt.plot(history.history['val_'+metric], '')\n",
    "    plt.xlabel(\"Epochs\")\n",
    "    plt.ylabel(metric)\n",
    "    plt.legend([metric, 'val_'+metric])"
   ]
  },
  {
   "cell_type": "code",
   "execution_count": 3,
   "id": "61b78cc7",
   "metadata": {
    "execution": {
     "iopub.execute_input": "2023-11-18T03:48:01.444639Z",
     "iopub.status.busy": "2023-11-18T03:48:01.444363Z",
     "iopub.status.idle": "2023-11-18T03:48:10.261367Z",
     "shell.execute_reply": "2023-11-18T03:48:10.260390Z"
    },
    "papermill": {
     "duration": 8.824422,
     "end_time": "2023-11-18T03:48:10.263833",
     "exception": false,
     "start_time": "2023-11-18T03:48:01.439411",
     "status": "completed"
    },
    "tags": []
   },
   "outputs": [
    {
     "name": "stdout",
     "output_type": "stream",
     "text": [
      "(2078, 2)\n",
      "(159456, 3)\n"
     ]
    }
   ],
   "source": [
    "## Read data\n",
    "train_essays = pd.read_csv(\"/kaggle/input/llm-detect-ai-generated-text/train_essays.csv\")\n",
    "test_essays = pd.read_csv(\"/kaggle/input/llm-detect-ai-generated-text/test_essays.csv\")\n",
    "train_prompts = pd.read_csv(\"/kaggle/input/llm-detect-ai-generated-text/train_prompts.csv\")\n",
    "ai_generated_train_essays = pd.read_csv(\"/kaggle/input/llm-generated-essays/ai_generated_train_essays.csv\")\n",
    "ai_generated_train_essays_gpt4 = pd.read_csv(\"/kaggle/input/llm-generated-essays/ai_generated_train_essays_gpt-4.csv\")\n",
    "train_essays = pd.concat([train_essays, ai_generated_train_essays, ai_generated_train_essays_gpt4])\n",
    "train_essays['label'] = train_essays['generated']\n",
    "train_essays.drop([\"id\", \"prompt_id\", \"generated\"], inplace=True, axis=1)\n",
    "print(train_essays.shape)\n",
    "\n",
    "daigt_external_dataset_1 = pd.read_csv(\"/kaggle/input/daigt-proper-train-dataset/train_drcat_01.csv\")\n",
    "daigt_external_dataset_2 = pd.read_csv(\"/kaggle/input/daigt-proper-train-dataset/train_drcat_02.csv\")\n",
    "daigt_external_dataset_3 = pd.read_csv(\"/kaggle/input/daigt-proper-train-dataset/train_drcat_03.csv\")\n",
    "daigt_external_dataset_4 = pd.read_csv(\"/kaggle/input/daigt-proper-train-dataset/train_drcat_04.csv\")\n",
    "daigt_external_dataset = pd.concat([daigt_external_dataset_1, daigt_external_dataset_2, daigt_external_dataset_3, daigt_external_dataset_4])\n",
    "daigt_external_dataset.drop([\"source\", \"essay_id\", \"prompt\"], axis=1, inplace=True)\n",
    "daigt_external_dataset_train = daigt_external_dataset[daigt_external_dataset.fold != 0].drop(\"fold\", axis=1)\n",
    "daigt_external_dataset_val = daigt_external_dataset[daigt_external_dataset.fold == 0].drop(\"fold\", axis=1)\n",
    "print(daigt_external_dataset.shape)\n",
    "\n",
    "## Split the dataset\n",
    "train_essays, val_essays = train_test_split(train_essays, test_size=0.33)\n",
    "## Merge with external dataset\n",
    "train_essays = pd.concat([daigt_external_dataset_train, train_essays])\n",
    "val_essays = pd.concat([daigt_external_dataset_val, val_essays])"
   ]
  },
  {
   "cell_type": "code",
   "execution_count": 4,
   "id": "2c8dda51",
   "metadata": {
    "execution": {
     "iopub.execute_input": "2023-11-18T03:48:10.274059Z",
     "iopub.status.busy": "2023-11-18T03:48:10.273352Z",
     "iopub.status.idle": "2023-11-18T03:48:13.612624Z",
     "shell.execute_reply": "2023-11-18T03:48:13.611674Z"
    },
    "papermill": {
     "duration": 3.346737,
     "end_time": "2023-11-18T03:48:13.615033",
     "exception": false,
     "start_time": "2023-11-18T03:48:10.268296",
     "status": "completed"
    },
    "tags": []
   },
   "outputs": [],
   "source": [
    "## Create dataset\n",
    "# Create TensorFlow datasets from the DataFrames\n",
    "batch_size = 16\n",
    "\n",
    "train_dataset = tf.data.Dataset.from_tensor_slices(\n",
    "    (train_essays['text'].values, train_essays['label'].values)\n",
    ").batch(batch_size)\n",
    "\n",
    "val_dataset = tf.data.Dataset.from_tensor_slices(\n",
    "    (val_essays['text'].values, val_essays['label'].values)\n",
    ").batch(batch_size)\n",
    "\n",
    "test_dataset = tf.data.Dataset.from_tensor_slices(\n",
    "    (test_essays['text'].values)\n",
    ").batch(batch_size)"
   ]
  },
  {
   "cell_type": "code",
   "execution_count": 5,
   "id": "a2fa12e1",
   "metadata": {
    "execution": {
     "iopub.execute_input": "2023-11-18T03:48:13.625053Z",
     "iopub.status.busy": "2023-11-18T03:48:13.624709Z",
     "iopub.status.idle": "2023-11-18T03:48:13.676993Z",
     "shell.execute_reply": "2023-11-18T03:48:13.676066Z"
    },
    "papermill": {
     "duration": 0.059834,
     "end_time": "2023-11-18T03:48:13.679306",
     "exception": false,
     "start_time": "2023-11-18T03:48:13.619472",
     "status": "completed"
    },
    "tags": []
   },
   "outputs": [
    {
     "name": "stdout",
     "output_type": "stream",
     "text": [
      "Question:  b'There are alot reasons to keep our the despised method of choosing the President. The First reason is because Certainty of Outcome, in the text its states that \"The reason is that the winning candidate\\'s share of the Electoral College invariably exceeds his share of the popular vote. Another example from the text is \"Obama, he recieved 61.7 percent of the electoral vote compared to only 51.3 percent of the popular votes cast for him and Romney... because all of the states award electoral votes on a winner-take-all basis.\\n\\nAnother reason is that the Electiral College requires a presidential candidate to have trans-regional appeal,in that case, no region has enough electoral votes to elect a president, a solid regional favorite such as Romney was in the South , has no reason to campaign in those states because of the poor economy and because its not a wealthy state, he wont be able to campaign heavily. So he left with no votes and would have to find his Electoral College votes in a more suitable area. In the text its states that \"It is a Desriable result because a candidate with regional appeal is unlikely to be a successful president.\"\\n\\nAlso the Electoral College restores some of the weight in the political balance the large states by population lose by virtue of the mal-apportionment Senate decreed in the Constitution. My proof is in the text \"The popular vote was very close in Florida in 2012 nevertheless Obama who won the that vote got 29 electoral votes. A same victory by the same margin in Wynoming would net the winner only 3 electoral votes.\"So, other things equal, a large state gets more attention compared to a small state.\\n\\nAnd Finally the Electoral College avoids the problemof elections in which no candidate recieves a majority of the votes cast. For example \"Richard Nixon in \\'68 and Bill Clinton in \\'92 both had on 43 percent plurality of the popular votes, while winning a majority in the in the Electoral College.\\n\\nIn Conclusion I think that the we should keep Electoral Colleges and changing to election by popular voting to vote for a President.    '\n",
      "Label: 0\n"
     ]
    }
   ],
   "source": [
    "for text_batch, label_batch in train_dataset.take(1):\n",
    "    for i in range(1):\n",
    "        print(\"Question: \", text_batch.numpy()[i])\n",
    "        print(\"Label:\", label_batch.numpy()[i])"
   ]
  },
  {
   "cell_type": "code",
   "execution_count": 6,
   "id": "c5080cb5",
   "metadata": {
    "execution": {
     "iopub.execute_input": "2023-11-18T03:48:13.689307Z",
     "iopub.status.busy": "2023-11-18T03:48:13.689022Z",
     "iopub.status.idle": "2023-11-18T03:48:36.806303Z",
     "shell.execute_reply": "2023-11-18T03:48:36.805465Z"
    },
    "papermill": {
     "duration": 23.12481,
     "end_time": "2023-11-18T03:48:36.808614",
     "exception": false,
     "start_time": "2023-11-18T03:48:13.683804",
     "status": "completed"
    },
    "tags": []
   },
   "outputs": [],
   "source": [
    "BUFFER_SIZE = 10000\n",
    "BATCH_SIZE = 64\n",
    "VOCAB_SIZE = 1000\n",
    "\n",
    "encoder = tf.keras.layers.TextVectorization(max_tokens=VOCAB_SIZE)\n",
    "encoder.adapt(train_dataset.map(lambda text, label: text))"
   ]
  },
  {
   "cell_type": "code",
   "execution_count": 7,
   "id": "a61e59a7",
   "metadata": {
    "execution": {
     "iopub.execute_input": "2023-11-18T03:48:36.818352Z",
     "iopub.status.busy": "2023-11-18T03:48:36.818029Z",
     "iopub.status.idle": "2023-11-18T03:48:36.828896Z",
     "shell.execute_reply": "2023-11-18T03:48:36.828060Z"
    },
    "papermill": {
     "duration": 0.017841,
     "end_time": "2023-11-18T03:48:36.830820",
     "exception": false,
     "start_time": "2023-11-18T03:48:36.812979",
     "status": "completed"
    },
    "tags": []
   },
   "outputs": [
    {
     "data": {
      "text/plain": [
       "array(['', '[UNK]', 'the', 'to', 'and', 'a', 'of', 'in', 'that', 'is',\n",
       "       'it', 'you', 'be', 'for', 'they', 'can', 'have', 'are', 'students',\n",
       "       'i'], dtype='<U15')"
      ]
     },
     "execution_count": 7,
     "metadata": {},
     "output_type": "execute_result"
    }
   ],
   "source": [
    "vocab = np.array(encoder.get_vocabulary())\n",
    "vocab[:20]"
   ]
  },
  {
   "cell_type": "code",
   "execution_count": 8,
   "id": "8d454aa2",
   "metadata": {
    "execution": {
     "iopub.execute_input": "2023-11-18T03:48:36.840285Z",
     "iopub.status.busy": "2023-11-18T03:48:36.840013Z",
     "iopub.status.idle": "2023-11-18T06:03:12.902656Z",
     "shell.execute_reply": "2023-11-18T06:03:12.901588Z"
    },
    "papermill": {
     "duration": 8076.069943,
     "end_time": "2023-11-18T06:03:12.904925",
     "exception": false,
     "start_time": "2023-11-18T03:48:36.834982",
     "status": "completed"
    },
    "tags": []
   },
   "outputs": [
    {
     "name": "stdout",
     "output_type": "stream",
     "text": [
      "Epoch 1/20\n",
      "8849/8849 [==============================] - 454s 50ms/step - loss: 0.0999 - accuracy: 0.9647 - val_loss: 0.0129 - val_accuracy: 0.9958\n",
      "Epoch 2/20\n",
      "8849/8849 [==============================] - 397s 45ms/step - loss: 0.0246 - accuracy: 0.9930 - val_loss: 0.0173 - val_accuracy: 0.9958\n",
      "Epoch 3/20\n",
      "8849/8849 [==============================] - 401s 45ms/step - loss: 0.0182 - accuracy: 0.9948 - val_loss: 0.0061 - val_accuracy: 1.0000\n",
      "Epoch 4/20\n",
      "8849/8849 [==============================] - 398s 45ms/step - loss: 0.0154 - accuracy: 0.9957 - val_loss: 0.0212 - val_accuracy: 0.9979\n",
      "Epoch 5/20\n",
      "8849/8849 [==============================] - 397s 45ms/step - loss: 0.0132 - accuracy: 0.9963 - val_loss: 0.0114 - val_accuracy: 0.9979\n",
      "Epoch 6/20\n",
      "8849/8849 [==============================] - 402s 45ms/step - loss: 0.0117 - accuracy: 0.9966 - val_loss: 0.0133 - val_accuracy: 0.9979\n",
      "Epoch 7/20\n",
      "8849/8849 [==============================] - 402s 45ms/step - loss: 0.0091 - accuracy: 0.9973 - val_loss: 0.0072 - val_accuracy: 1.0000\n",
      "Epoch 8/20\n",
      "8849/8849 [==============================] - 402s 45ms/step - loss: 0.0083 - accuracy: 0.9975 - val_loss: 0.0246 - val_accuracy: 0.9937\n",
      "Epoch 9/20\n",
      "8849/8849 [==============================] - 401s 45ms/step - loss: 0.0060 - accuracy: 0.9981 - val_loss: 0.0012 - val_accuracy: 1.0000\n",
      "Epoch 10/20\n",
      "8849/8849 [==============================] - 404s 46ms/step - loss: 0.0059 - accuracy: 0.9980 - val_loss: 7.7982e-04 - val_accuracy: 1.0000\n",
      "Epoch 11/20\n",
      "8849/8849 [==============================] - 404s 46ms/step - loss: 0.0060 - accuracy: 0.9981 - val_loss: 8.9999e-04 - val_accuracy: 1.0000\n",
      "Epoch 12/20\n",
      "8849/8849 [==============================] - 404s 46ms/step - loss: 0.0045 - accuracy: 0.9985 - val_loss: 0.0075 - val_accuracy: 0.9979\n",
      "Epoch 13/20\n",
      "8849/8849 [==============================] - 405s 46ms/step - loss: 0.0036 - accuracy: 0.9988 - val_loss: 1.7397e-04 - val_accuracy: 1.0000\n",
      "Epoch 14/20\n",
      "8849/8849 [==============================] - 405s 46ms/step - loss: 0.0029 - accuracy: 0.9991 - val_loss: 0.0066 - val_accuracy: 0.9979\n",
      "Epoch 15/20\n",
      "8849/8849 [==============================] - 404s 46ms/step - loss: 0.0033 - accuracy: 0.9990 - val_loss: 2.7626e-04 - val_accuracy: 1.0000\n",
      "Epoch 16/20\n",
      "8849/8849 [==============================] - 404s 46ms/step - loss: 0.0022 - accuracy: 0.9993 - val_loss: 0.0014 - val_accuracy: 1.0000\n",
      "Epoch 17/20\n",
      "8849/8849 [==============================] - 399s 45ms/step - loss: 0.0025 - accuracy: 0.9992 - val_loss: 0.0038 - val_accuracy: 0.9979\n",
      "Epoch 18/20\n",
      "8849/8849 [==============================] - 391s 44ms/step - loss: 0.0022 - accuracy: 0.9994 - val_loss: 3.8662e-04 - val_accuracy: 1.0000\n",
      "Epoch 19/20\n",
      "8849/8849 [==============================] - 394s 45ms/step - loss: 0.0025 - accuracy: 0.9991 - val_loss: 1.4371e-04 - val_accuracy: 1.0000\n",
      "Epoch 20/20\n",
      "8849/8849 [==============================] - 406s 46ms/step - loss: 0.0018 - accuracy: 0.9994 - val_loss: 2.0606e-04 - val_accuracy: 1.0000\n"
     ]
    }
   ],
   "source": [
    "model = tf.keras.Sequential([\n",
    "    encoder,\n",
    "    tf.keras.layers.Embedding(\n",
    "        input_dim=len(encoder.get_vocabulary()),\n",
    "        output_dim=64,\n",
    "        # Use masking to handle the variable sequence lengths\n",
    "        mask_zero=True),\n",
    "    tf.keras.layers.Bidirectional(tf.keras.layers.LSTM(64)),\n",
    "    tf.keras.layers.Dense(64, activation='relu'),\n",
    "    tf.keras.layers.Dense(1)\n",
    "])\n",
    "\n",
    "model.compile(loss=tf.keras.losses.BinaryCrossentropy(from_logits=True),\n",
    "              optimizer=tf.keras.optimizers.Adam(1e-4),\n",
    "              metrics=['accuracy'])\n",
    "\n",
    "history = model.fit(train_dataset, epochs=20,\n",
    "                    validation_data=val_dataset,\n",
    "                    validation_steps=30)"
   ]
  },
  {
   "cell_type": "code",
   "execution_count": 9,
   "id": "8d27ff23",
   "metadata": {
    "execution": {
     "iopub.execute_input": "2023-11-18T06:03:30.181926Z",
     "iopub.status.busy": "2023-11-18T06:03:30.180977Z",
     "iopub.status.idle": "2023-11-18T06:03:30.767747Z",
     "shell.execute_reply": "2023-11-18T06:03:30.766672Z"
    },
    "papermill": {
     "duration": 9.411001,
     "end_time": "2023-11-18T06:03:30.770195",
     "exception": false,
     "start_time": "2023-11-18T06:03:21.359194",
     "status": "completed"
    },
    "tags": []
   },
   "outputs": [
    {
     "data": {
      "text/plain": [
       "(0.0, 0.10487588409305318)"
      ]
     },
     "execution_count": 9,
     "metadata": {},
     "output_type": "execute_result"
    },
    {
     "data": {
      "image/png": "[encoded data removed]",
      "text/plain": [
       "<Figure size 1600x800 with 2 Axes>"
      ]
     },
     "metadata": {},
     "output_type": "display_data"
    }
   ],
   "source": [
    "plt.figure(figsize=(16, 8))\n",
    "plt.subplot(1, 2, 1)\n",
    "plot_graphs(history, 'accuracy')\n",
    "plt.ylim(None, 1)\n",
    "plt.subplot(1, 2, 2)\n",
    "plot_graphs(history, 'loss')\n",
    "plt.ylim(0, None)"
   ]
  },
  {
   "cell_type": "code",
   "execution_count": 10,
   "id": "9af1ceed",
   "metadata": {
    "execution": {
     "iopub.execute_input": "2023-11-18T06:03:47.922407Z",
     "iopub.status.busy": "2023-11-18T06:03:47.922023Z",
     "iopub.status.idle": "2023-11-18T06:03:50.383824Z",
     "shell.execute_reply": "2023-11-18T06:03:50.382827Z"
    },
    "papermill": {
     "duration": 11.002515,
     "end_time": "2023-11-18T06:03:50.385903",
     "exception": false,
     "start_time": "2023-11-18T06:03:39.383388",
     "status": "completed"
    },
    "tags": []
   },
   "outputs": [
    {
     "name": "stdout",
     "output_type": "stream",
     "text": [
      "1/1 [==============================] - 2s 2s/step\n"
     ]
    },
    {
     "data": {
      "text/html": [
       "<div>\n",
       "<style scoped>\n",
       "    .dataframe tbody tr th:only-of-type {\n",
       "        vertical-align: middle;\n",
       "    }\n",
       "\n",
       "    .dataframe tbody tr th {\n",
       "        vertical-align: top;\n",
       "    }\n",
       "\n",
       "    .dataframe thead th {\n",
       "        text-align: right;\n",
       "    }\n",
       "</style>\n",
       "<table border=\"1\" class=\"dataframe\">\n",
       "  <thead>\n",
       "    <tr style=\"text-align: right;\">\n",
       "      <th></th>\n",
       "      <th>id</th>\n",
       "      <th>generated</th>\n",
       "    </tr>\n",
       "  </thead>\n",
       "  <tbody>\n",
       "    <tr>\n",
       "      <th>0</th>\n",
       "      <td>0000aaaa</td>\n",
       "      <td>-0.013205</td>\n",
       "    </tr>\n",
       "    <tr>\n",
       "      <th>1</th>\n",
       "      <td>1111bbbb</td>\n",
       "      <td>-0.013205</td>\n",
       "    </tr>\n",
       "    <tr>\n",
       "      <th>2</th>\n",
       "      <td>2222cccc</td>\n",
       "      <td>-0.013205</td>\n",
       "    </tr>\n",
       "  </tbody>\n",
       "</table>\n",
       "</div>"
      ],
      "text/plain": [
       "         id  generated\n",
       "0  0000aaaa  -0.013205\n",
       "1  1111bbbb  -0.013205\n",
       "2  2222cccc  -0.013205"
      ]
     },
     "execution_count": 10,
     "metadata": {},
     "output_type": "execute_result"
    }
   ],
   "source": [
    "predictions = model.predict(test_dataset)\n",
    "sub = pd.DataFrame()\n",
    "sub['id'] = test_essays['id']\n",
    "sub['generated'] = [pred[0] for pred in predictions]\n",
    "sub.to_csv('submission.csv', index=False)\n",
    "sub.head()"
   ]
  },
  {
   "cell_type": "code",
   "execution_count": null,
   "id": "b87080b8",
   "metadata": {
    "papermill": {
     "duration": 8.698578,
     "end_time": "2023-11-18T06:04:07.610638",
     "exception": false,
     "start_time": "2023-11-18T06:03:58.912060",
     "status": "completed"
    },
    "tags": []
   },
   "outputs": [],
   "source": []
  }
 ],
 "metadata": {
  "kaggle": {
   "accelerator": "gpu",
   "dataSources": [
    {
     "databundleVersionId": 6888007,
     "sourceId": 61542,
     "sourceType": "competition"
    },
    {
     "datasetId": 3937441,
     "sourceId": 6868189,
     "sourceType": "datasetVersion"
    },
    {
     "datasetId": 3942644,
     "sourceId": 6890527,
     "sourceType": "datasetVersion"
    }
   ],
   "dockerImageVersionId": 30588,
   "isGpuEnabled": true,
   "isInternetEnabled": false,
   "language": "python",
   "sourceType": "notebook"
  },
  "kernelspec": {
   "display_name": "Python 3",
   "language": "python",
   "name": "python3"
  },
  "language_info": {
   "codemirror_mode": {
    "name": "ipython",
    "version": 3
   },
   "file_extension": ".py",
   "mimetype": "text/x-python",
   "name": "python",
   "nbconvert_exporter": "python",
   "pygments_lexer": "ipython3",
   "version": "3.10.12"
  },
  "papermill": {
   "default_parameters": {},
   "duration": 8195.283222,
   "end_time": "2023-11-18T06:04:19.152427",
   "environment_variables": {},
   "exception": null,
   "input_path": "__notebook__.ipynb",
   "output_path": "__notebook__.ipynb",
   "parameters": {},
   "start_time": "2023-11-18T03:47:43.869205",
   "version": "2.4.0"
  }
 },
 "nbformat": 4,
 "nbformat_minor": 5
}
